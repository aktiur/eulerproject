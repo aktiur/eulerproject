{
 "cells": [
  {
   "cell_type": "markdown",
   "metadata": {},
   "source": [
    "## Approche dérangements"
   ]
  },
  {
   "cell_type": "code",
   "execution_count": null,
   "metadata": {
    "collapsed": true
   },
   "outputs": [],
   "source": [
    "import math"
   ]
  },
  {
   "cell_type": "code",
   "execution_count": 10,
   "metadata": {
    "collapsed": true
   },
   "outputs": [],
   "source": [
    "import operator as op\n",
    "from functools import reduce\n",
    "def ncr(n, r):\n",
    "    r = min(r, n-r)\n",
    "    if r == 0: return 1\n",
    "    numer = reduce(op.mul, range(n, n-r, -1))\n",
    "    denom = reduce(op.mul, range(1, r+1))\n",
    "    return numer//denom"
   ]
  },
  {
   "cell_type": "code",
   "execution_count": 2,
   "metadata": {
    "collapsed": true
   },
   "outputs": [],
   "source": [
    "def nombre_derangements(n):\n",
    "    fac_n = math.factorial(n)\n",
    "    return sum((-1)**k * fac_n // math.factorial(k) for k in range(n+1))"
   ]
  },
  {
   "cell_type": "code",
   "execution_count": 8,
   "metadata": {
    "collapsed": false
   },
   "outputs": [],
   "source": [
    "n = 4\n",
    "nb_der = [nombre_derangements(n-2*k) for k in range(n//2, -1, -1)]"
   ]
  },
  {
   "cell_type": "code",
   "execution_count": 35,
   "metadata": {
    "collapsed": false
   },
   "outputs": [],
   "source": [
    "def nombre_intransposements(n):\n",
    "    nb_der = [nombre_derangements(n-2*k) for k in range(n//2+1)]\n",
    "    return nb_der[0] - sum((-1)**(k+1) * ncr(n, 2*k) * math.factorial(2*k)//(2**k)//math.factorial(k) * nb_der[k] for k in range(1, n//2+1))"
   ]
  },
  {
   "cell_type": "markdown",
   "metadata": {},
   "source": [
    "## Approche théorie des graphes"
   ]
  },
  {
   "cell_type": "code",
   "execution_count": 1,
   "metadata": {
    "collapsed": true
   },
   "outputs": [],
   "source": [
    "from collections import Counter, defaultdict\n",
    "from itertools import product, chain"
   ]
  },
  {
   "cell_type": "code",
   "execution_count": 2,
   "metadata": {
    "collapsed": true
   },
   "outputs": [],
   "source": [
    "def arc(a, b):\n",
    "    return tuple(sorted([a,b]))"
   ]
  },
  {
   "cell_type": "code",
   "execution_count": 3,
   "metadata": {
    "collapsed": false
   },
   "outputs": [],
   "source": [
    "def combine(arc1, arc2):\n",
    "    if arc1[0] == arc2[0]:\n",
    "        return arc(arc1[1], arc2[1])\n",
    "    elif arc1[0] == arc2[1]:\n",
    "        return arc(arc1[1], arc2[0])\n",
    "    elif arc1[1] == arc2[0]:\n",
    "        return arc(arc1[0], arc2[1])\n",
    "    elif arc1[1] == arc2[1]:\n",
    "        return arc(arc1[0], arc2[0])\n",
    "    else:\n",
    "        raise TypeError('arcs not combinable')\n",
    "\n",
    "class ArcAggregator():\n",
    "    def __init__(self, values):\n",
    "        values = [arc(a,b) for a, b in values]\n",
    "        self._arcs = frozenset(values)\n",
    "        self._points = points = {}\n",
    "        \n",
    "        for a, b in values:\n",
    "            points[a] = (a,b)\n",
    "            points[b] = (a,b)\n",
    "            \n",
    "    def extend(self, a, b):\n",
    "        points = self._points\n",
    "        closed = 0\n",
    "        res = []\n",
    "\n",
    "        cur = arc(a,b)\n",
    "        \n",
    "        connected = frozenset(points[i] for i in cur if i in points)\n",
    "        assert len(connected) <= 2\n",
    "        \n",
    "        for con in connected:\n",
    "            if cur == con:\n",
    "                # pour s'assurer qu'il n'y a plus d'autres chemins connectés\n",
    "                cur = None\n",
    "                closed += 1\n",
    "            else:\n",
    "                cur = combine(cur, con)\n",
    "        \n",
    "        res = self._arcs - connected\n",
    "        if cur:\n",
    "            res |= frozenset([cur])\n",
    "        \n",
    "        return ArcAggregator(res), closed\n",
    "    \n",
    "    def __repr__(self):\n",
    "        return 'ArcSet(%s)' % (', '.join(repr(arc) for arc in self._arcs),)"
   ]
  },
  {
   "cell_type": "code",
   "execution_count": 27,
   "metadata": {
    "collapsed": false
   },
   "outputs": [],
   "source": [
    "size = 4\n",
    "start_state = ({\n",
    "    # ensemble d'arcs, ensemble de points\n",
    "    (frozenset(), frozenset(['a0'])): Counter([0])\n",
    "}, 0)"
   ]
  },
  {
   "cell_type": "code",
   "execution_count": 28,
   "metadata": {
    "collapsed": false
   },
   "outputs": [],
   "source": [
    "rows = 'abcdefghijklmnopqrstuvwxyz'\n",
    "cols = '0123456789'\n",
    "\n",
    "codes = {(i, j): rows[i] + cols[j] for i in range(size) for j in range(size)}\n",
    "\n",
    "neighbours = {}\n",
    "\n",
    "for i in range(size-1):\n",
    "    for j in range(size-1):\n",
    "        neighbours[rows[i]+cols[j]] = (rows[i+1]+cols[j], rows[i]+cols[j+1])\n",
    "\n",
    "    neighbours[rows[i]+cols[size-1]] = (rows[i+1] + cols[size-1],)\n",
    "\n",
    "for j in range(size-1):\n",
    "    neighbours[rows[size-1]+ cols[j]] = (rows[size-1] + cols[j+1],)\n",
    "    \n",
    "neighbours[rows[size-1]+cols[size-1]] = []\n",
    "\n",
    "diag_points = [frozenset(codes[j, i-j] for j in range(max(0, i-size+1), min(i+1, size))) for i in range(2*size-1)]"
   ]
  },
  {
   "cell_type": "code",
   "execution_count": 29,
   "metadata": {
    "collapsed": false
   },
   "outputs": [],
   "source": [
    "from IPython.core.debugger import Tracer\n",
    "\n",
    "def next_level(prev):\n",
    "    prev_state, prev_level = prev\n",
    "    \n",
    "    res = defaultdict(Counter)\n",
    "\n",
    "    # les points de la nouvelle diagonale\n",
    "    current_diag = diag_points[prev_level+1]\n",
    "    \n",
    "    for (endpoints, single_points), weights in prev_state.items():\n",
    "        # on est certains que les points isolés seront raccordés\n",
    "        \n",
    "        # pour passer à la boucle suivante\n",
    "        impossible = False\n",
    "        \n",
    "        new_paths = []\n",
    "        seen = []\n",
    "        for sp in single_points:\n",
    "            neighs = neighbours[sp]\n",
    "            # il faut nécessairement deux voisins pour les points isolés\n",
    "            if len(neighs) < 2:\n",
    "                impossible = True\n",
    "                break\n",
    "            for neigh in neighs:\n",
    "                seen.append(neigh)\n",
    "            new_paths.append(arc(*neighs))\n",
    "\n",
    "        if impossible:\n",
    "            continue\n",
    "        \n",
    "        # on fait la liste des points qu'il va falloir relier\n",
    "        points = [point for path in endpoints for point in path]\n",
    "        \n",
    "        for new_endpoints, left, cycles in build_path(points, ArcAggregator(chain(new_paths, endpoints)), current_diag - frozenset(seen), 0):\n",
    "            all_endpoints = frozenset(endpoint for path in new_endpoints._arcs for endpoint in path)\n",
    "            assert len(all_endpoints & left) == 0\n",
    "            assert (all_endpoints | left).issubset(current_diag)\n",
    "            new_weights = Counter()\n",
    "            for m in weights:\n",
    "                new_weights[m+cycles] = weights[m]\n",
    "                        \n",
    "            res[new_endpoints._arcs, left] += new_weights\n",
    "        \n",
    "    return (res, prev_level+1)\n",
    "        \n",
    "def build_path(points, arcs, left, cycles):    \n",
    "    if not points:\n",
    "        yield (arcs, left, cycles)\n",
    "        return\n",
    "    \n",
    "    point, *other_points = points\n",
    "        \n",
    "    for neigh in neighbours[point]:\n",
    "        new_arcs, new_cycles = arcs.extend(point, neigh)\n",
    "        yield from build_path(other_points, new_arcs, left - {neigh}, cycles + new_cycles)"
   ]
  },
  {
   "cell_type": "code",
   "execution_count": 30,
   "metadata": {
    "collapsed": false
   },
   "outputs": [],
   "source": [
    "states = [start_state]\n",
    "cur = start_state\n",
    "\n",
    "for _ in range(2*size-2):\n",
    "    cur = next_level(cur)\n",
    "    states.append(cur)"
   ]
  },
  {
   "cell_type": "code",
   "execution_count": 31,
   "metadata": {
    "collapsed": false
   },
   "outputs": [
    {
     "data": {
      "text/plain": [
       "18"
      ]
     },
     "execution_count": 31,
     "metadata": {},
     "output_type": "execute_result"
    }
   ],
   "source": [
    "sum(states[-1][0][(frozenset(), frozenset())].values())"
   ]
  },
  {
   "cell_type": "code",
   "execution_count": 32,
   "metadata": {
    "collapsed": true
   },
   "outputs": [],
   "source": [
    "import networkx as nx"
   ]
  },
  {
   "cell_type": "code",
   "execution_count": 34,
   "metadata": {
    "collapsed": false
   },
   "outputs": [],
   "source": [
    "g = nx.grid_2d_graph(4,4)"
   ]
  },
  {
   "cell_type": "code",
   "execution_count": 37,
   "metadata": {
    "collapsed": true
   },
   "outputs": [],
   "source": [
    "%matplotlib inline"
   ]
  },
  {
   "cell_type": "code",
   "execution_count": 47,
   "metadata": {
    "collapsed": false,
    "scrolled": true
   },
   "outputs": [
    {
     "data": {
      "text/plain": [
       "[((0, 1), (0, 0)),\n",
       " ((0, 1), (1, 1)),\n",
       " ((0, 1), (0, 2)),\n",
       " ((1, 2), (1, 1)),\n",
       " ((1, 2), (1, 3)),\n",
       " ((1, 2), (0, 2)),\n",
       " ((1, 2), (2, 2)),\n",
       " ((3, 2), (3, 1)),\n",
       " ((3, 2), (3, 3)),\n",
       " ((3, 2), (2, 2)),\n",
       " ((0, 0), (1, 0)),\n",
       " ((3, 3), (2, 3)),\n",
       " ((3, 0), (2, 0)),\n",
       " ((3, 0), (3, 1)),\n",
       " ((3, 1), (2, 1)),\n",
       " ((1, 1), (1, 0)),\n",
       " ((1, 1), (2, 1)),\n",
       " ((2, 1), (2, 0)),\n",
       " ((2, 1), (2, 2)),\n",
       " ((0, 2), (0, 3)),\n",
       " ((2, 0), (1, 0)),\n",
       " ((1, 3), (0, 3)),\n",
       " ((1, 3), (2, 3)),\n",
       " ((2, 3), (2, 2))]"
      ]
     },
     "execution_count": 47,
     "metadata": {},
     "output_type": "execute_result"
    }
   ],
   "source": [
    "g.edges()"
   ]
  },
  {
   "cell_type": "markdown",
   "metadata": {},
   "source": [
    "## Approche problème de résolution de contraintes"
   ]
  },
  {
   "cell_type": "code",
   "execution_count": 27,
   "metadata": {
    "collapsed": false
   },
   "outputs": [],
   "source": [
    "# mes variables sont les nombre de 0 à 99, en ordre C\n",
    "domaines = np.zeros(dtype=np.dtype('U6'), shape=(size, size))\n",
    "\n",
    "# on change les coins\n",
    "domaines[0,0] = '┌'\n",
    "domaines[0,-1] = '┐'\n",
    "domaines[-1,0] = '└'\n",
    "domaines[-1,-1] = '┘'\n",
    "\n",
    "# on change les bords\n",
    "domaines[0,1:-1] = '─┌┐'\n",
    "domaines[-1,1:-1] = '─└┘'\n",
    "domaines[1:-1, 0] = '│┌└'\n",
    "domaines[1:-1, -1] = '│┐┘'\n",
    "\n",
    "# on change le milieu\n",
    "domaines[1:-1, 1:-1] = directions"
   ]
  },
  {
   "cell_type": "code",
   "execution_count": 33,
   "metadata": {
    "collapsed": false,
    "scrolled": true
   },
   "outputs": [
    {
     "name": "stdout",
     "output_type": "stream",
     "text": [
      "[       ┌      ─┌┐      ─┌┐      ─┌┐      ─┌┐        ┐]\n",
      "[     │┌└   ─│┌┐└┘   ─│┌┐└┘   ─│┌┐└┘   ─│┌┐└┘      │┐┘]\n",
      "[     │┌└   ─│┌┐└┘   ─│┌┐└┘   ─│┌┐└┘   ─│┌┐└┘      │┐┘]\n",
      "[     │┌└   ─│┌┐└┘   ─│┌┐└┘   ─│┌┐└┘   ─│┌┐└┘      │┐┘]\n",
      "[     │┌└   ─│┌┐└┘   ─│┌┐└┘   ─│┌┐└┘   ─│┌┐└┘      │┐┘]\n",
      "[       └      ─└┘      ─└┘      ─└┘      ─└┘        ┘]\n"
     ]
    }
   ],
   "source": [
    "for row in domaines:\n",
    "    print('[%s]' % (' '.join('%08s' % i for i in row),))"
   ]
  },
  {
   "cell_type": "code",
   "execution_count": null,
   "metadata": {
    "collapsed": true
   },
   "outputs": [],
   "source": []
  },
  {
   "cell_type": "code",
   "execution_count": null,
   "metadata": {
    "collapsed": true
   },
   "outputs": [],
   "source": [
    "propagate_functions = {}\n",
    "\n",
    "def assign(grille, index, value):\n",
    "    other_values = grille[index].replace(value, '')\n",
    "    \n",
    "\n",
    "def propagate_h(grille, index):\n",
    "    i, j = index\n",
    "    if i:\n",
    "        value = grille[i-1, j].replace('│┐┘', '')\n",
    "        if not value:\n",
    "            return False\n",
    "        if len(value) == 1:\n",
    "            if not propagate(grille, (i-1, j), value):\n",
    "                return False\n",
    "        \n",
    "    if i<size-1:\n",
    "        value = grille[i+1, j].replace('│┌└', '')\n",
    "        if not value:\n",
    "            return False\n",
    "        if len(value) == 1:\n",
    "            if not propagate(grille, (i+1, j), value):\n",
    "                return False\n",
    "\n",
    "def propagate(grille, index, value):\n",
    "    \n"
   ]
  }
 ],
 "metadata": {
  "kernelspec": {
   "display_name": "Python 3",
   "language": "python",
   "name": "python3"
  },
  "language_info": {
   "codemirror_mode": {
    "name": "ipython",
    "version": 3
   },
   "file_extension": ".py",
   "mimetype": "text/x-python",
   "name": "python",
   "nbconvert_exporter": "python",
   "pygments_lexer": "ipython3",
   "version": "3.5.2"
  }
 },
 "nbformat": 4,
 "nbformat_minor": 2
}
