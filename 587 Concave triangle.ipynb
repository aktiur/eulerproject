{
 "cells": [
  {
   "cell_type": "markdown",
   "metadata": {},
   "source": [
    "L'aire de la L-section est égale à :\n",
    "\n",
    "$$A = \\frac{4 - \\pi} 4$$"
   ]
  },
  {
   "cell_type": "markdown",
   "metadata": {},
   "source": [
    "Dans le coin inférieur gauche du cercle, la relation entre x et y est décrite par :\n",
    "$$(x-1)^2 + (y-1)^2 = 1$$\n",
    "\n",
    "$$0 \\leq x \\leq 1 \\mbox{ et } 0 \\leq y \\leq 1$$\n",
    "\n",
    "Soit :\n",
    "\n",
    "\\begin{align}\n",
    "(y-1)^2 &= 1 - (x-1)^2 \\\\\n",
    "        &= 1 - x^2 + 2x - 1 \\\\\n",
    "        &= 2x - x^2 \\\\\n",
    "     y  &= f(x) = 1 - \\sqrt{2x - x^2}\n",
    "\\end{align}"
   ]
  },
  {
   "cell_type": "markdown",
   "metadata": {},
   "source": [
    "Le point d'intersection entre la diagonale et le premier cercle à l'étape $n$, en notant ses coordonnées $(x_0, y_0)$, est caractérisé par :\n",
    "\n",
    "$$0 \\leq x_0 \\leq 1 \\mbox{ et } 0 \\leq y_0 \\leq 1$$\n",
    "\n",
    "$$y_0 = 1 - \\sqrt{2x_0 - x_0^2}$$\n",
    "\n",
    "$$\\frac{y_0}{x_0} = \\frac 1 n$$"
   ]
  },
  {
   "cell_type": "markdown",
   "metadata": {},
   "source": [
    "Ce qui nous donne :\n",
    "\n",
    "\\begin{align}\n",
    "1 - \\sqrt{2x_0 - x_0^2} &= \\frac{x_0} n \\\\\n",
    "  - \\sqrt{2x_0 - x_0^2}   &= \\frac{x_0} n - 1 \\\\\n",
    "          2x_0 - x_0^2    &=(\\frac{x_0} n - 1)^2 \\\\\n",
    "          2x_0 - x_0^2    &= \\frac{x_0^2}{n^2} - \\frac{2x_0}n + 1 \\\\\n",
    "x_0^2(1 + \\frac 1 {n^2}) - 2x_0(1 + \\frac 1 n) + 1 &= 0\n",
    "\\end{align}"
   ]
  },
  {
   "cell_type": "markdown",
   "metadata": {},
   "source": [
    "On obtient :\n",
    "\n",
    "$$\\Delta = 4(1+\\frac 1 n)^2 - 4(1+\\frac 1 {n^2}) = \\frac 8 {n}$$ "
   ]
  },
  {
   "cell_type": "markdown",
   "metadata": {},
   "source": [
    "$$x_0 = \\frac{2(1+\\frac 1 n) ± \\sqrt{\\frac 8 n}}{2(1+\\frac 1 {n^2})} = \n",
    "\\frac{(1+\\frac 1 n) ± \\sqrt{\\frac 2 n}}{(1+\\frac 1 {n^2})} $$"
   ]
  },
  {
   "cell_type": "markdown",
   "metadata": {},
   "source": [
    "Vu que $x_0 \\leq 1$, la seule solution est :\n",
    "\n",
    "$$x_0 = \\frac{(1+\\frac 1 n) - \\sqrt{\\frac 2 n}}{(1+\\frac 1 {n^2})} $$"
   ]
  },
  {
   "cell_type": "code",
   "execution_count": 25,
   "metadata": {
    "collapsed": true
   },
   "outputs": [],
   "source": [
    "import math\n",
    "def x_0(n):\n",
    "    return ((1 + 1/n) - math.sqrt(2/n)) / (1 + 1/(n**2))\n",
    "\n",
    "def f(x):\n",
    "    return 1 - math.sqrt(2*x - x**2)"
   ]
  },
  {
   "cell_type": "code",
   "execution_count": 24,
   "metadata": {
    "collapsed": false
   },
   "outputs": [
    {
     "data": {
      "text/plain": [
       "(0.2928932188134524, 0.29289321881345254)"
      ]
     },
     "execution_count": 24,
     "metadata": {},
     "output_type": "execute_result"
    }
   ],
   "source": [
    "(1 -math.sqrt(2)/2), f(1-math.sqrt(2)/2)"
   ]
  },
  {
   "cell_type": "markdown",
   "metadata": {},
   "source": [
    "On vérifie que ça nous donne la bonne valeur à l'étape 1, où on rencontre évidemment le cercle de façon symmétrique."
   ]
  },
  {
   "cell_type": "code",
   "execution_count": 14,
   "metadata": {
    "collapsed": false
   },
   "outputs": [
    {
     "data": {
      "text/plain": [
       "True"
      ]
     },
     "execution_count": 14,
     "metadata": {},
     "output_type": "execute_result"
    }
   ],
   "source": [
    "x_0(1) == 1-math.sqrt(2)/2"
   ]
  },
  {
   "cell_type": "markdown",
   "metadata": {},
   "source": [
    "L'aire du triangle concave est divisé en deux partie : un triangle de coordonnées $(0,0)$, $(x_0, y_0)$ et $(x_0, 0)$, et un petit triangle concave."
   ]
  },
  {
   "cell_type": "markdown",
   "metadata": {},
   "source": [
    "L'aire du triangle est $\\frac {x_0 y_0} 2$."
   ]
  },
  {
   "cell_type": "markdown",
   "metadata": {},
   "source": [
    "L'aire du petit triangle concave est donnée par l'intégrale suivante :\n",
    "\n",
    "$$\\int_{x_0}^1 \\mathrm{f}(x) \\mathrm d x = (1 - x_0) - \\int_{x_0}^1 \\sqrt{2x - x^2} \\mathrm d x$$"
   ]
  },
  {
   "cell_type": "markdown",
   "metadata": {},
   "source": [
    "On met le polynôme sous la racine sous forme canonique\n",
    "\n",
    "$$2x - x^2 = 1 - (x-1)^2$$\n",
    "\n",
    "$$\\int_{x_0}^1 \\sqrt{2x - x^2} \\mathrm d x = \\int_{x_0}^1 \\sqrt{1 - (x-1)^2} \\mathrm d x$$"
   ]
  },
  {
   "cell_type": "markdown",
   "metadata": {},
   "source": [
    "Ce qui nous suggère un premier changement de variable : u = x - 1.\n",
    "\n",
    "$$\\int_{x_0}^1 \\sqrt{1-(x-1)^2} \\mathrm d x = \\int_{x_0-1}^0 \\sqrt{1 - u^2} \\mathrm d u$$"
   ]
  },
  {
   "cell_type": "markdown",
   "metadata": {},
   "source": [
    "On a $0 \\leq x \\leq 1$, donc $-1 \\leq u \\leq 0$. On utiliser maintenant le changement de variable suivant :\n",
    "\n",
    "\\begin{align}\n",
    "u &= \\sin(\\alpha) \\\\\n",
    "\\mathrm d u &= \\cos(\\alpha) \\mathrm d \\alpha \\\\\n",
    "\\alpha &= \\arcsin(u)\n",
    "\\end{align}\n",
    "\n",
    "Avec :\n",
    "\n",
    "$$-\\frac \\pi 2 \\leq \\alpha \\leq 0$$\n",
    "\n",
    "Ce qui donne :\n",
    "\n",
    "\\begin{align}\n",
    "\\int_{x_0-1}^0 \\sqrt{1 - u^2} \\mathrm d u \n",
    "&= \\int_{\\arcsin(x_0-1)}^0 \\sqrt{1 - sin(\\alpha)^2} \\cos(\\alpha)\\mathrm d \\alpha \\\\\n",
    "&= \\int_{\\arcsin(x_0-1)}^0 \\sqrt{cos(\\alpha)^2} \\cos(\\alpha) \\mathrm d \\alpha \\\\\n",
    "&= \\int_{\\arcsin(x_0-1)}^0 cos(\\alpha)^2 \\mathrm d \\alpha \\\\\n",
    "&= \\int_{\\arcsin(x_0-1)}^0 \\frac{1+cos(2\\alpha)} 2 \\mathrm d \\alpha \\\\\n",
    "&= -\\frac{\\arcsin(x_0-1)} 2 + \\frac 1 2 \\int_{\\arcsin(x_0-1)}^0 cos(2\\alpha) \\mathrm d \\alpha \\\\\n",
    "&= -\\frac{\\arcsin(x_0-1)} 2 + \\frac 1 4 \\left[ \\sin(2\\alpha) \\right]_{\\arcsin(x_0-1)}^0 \\\\\n",
    "&= -\\frac{\\arcsin(x_0-1)} 2 - \\frac {\\sin(2\\arcsin(x_0-1))} 4\n",
    "\\end{align}"
   ]
  },
  {
   "cell_type": "markdown",
   "metadata": {},
   "source": [
    "Et au final :\n",
    "\n",
    "$$\\int_{x_0}^1 \\mathrm{f}(x) \\mathrm d x = (1 - x_0) + \\frac{\\arcsin(x_0-1)} 2 + \\frac {\\sin(2\\arcsin(x_0-1))} 4$$"
   ]
  },
  {
   "cell_type": "markdown",
   "metadata": {},
   "source": [
    "Soit pour le rapport des aires :\n",
    "\n",
    "$$\\mathrm R(n) = \\frac{2 x_0 y_0 + 4(1 - x_0) + 2 \\arcsin(x_0-1) + \\sin(2\\arcsin(x_0-1))} {4-\\pi}$$"
   ]
  },
  {
   "cell_type": "code",
   "execution_count": 30,
   "metadata": {
    "collapsed": false
   },
   "outputs": [],
   "source": [
    "def R(n):\n",
    "    x0 = x_0(n)\n",
    "    y0 = f(x0)\n",
    "    \n",
    "    as0 = math.asin(x0-1)\n",
    "    \n",
    "    return (2*x0*y0 + 4*(1-x0) + 2 * as0 + math.sin(2*as0)) / (4 - math.pi)"
   ]
  },
  {
   "cell_type": "markdown",
   "metadata": {},
   "source": [
    "On cherche le premier nombre pour lequel cette fonction est inférieure à 0.001."
   ]
  },
  {
   "cell_type": "code",
   "execution_count": 41,
   "metadata": {
    "collapsed": false
   },
   "outputs": [
    {
     "data": {
      "text/plain": [
       "2240"
      ]
     },
     "execution_count": 41,
     "metadata": {},
     "output_type": "execute_result"
    }
   ],
   "source": [
    "from itertools import count\n",
    "next(i for i in count(1) if R(i) <= 0.001)"
   ]
  },
  {
   "cell_type": "code",
   "execution_count": 40,
   "metadata": {
    "collapsed": false
   },
   "outputs": [
    {
     "data": {
      "text/plain": [
       "0.0010000474961978228"
      ]
     },
     "execution_count": 40,
     "metadata": {},
     "output_type": "execute_result"
    }
   ],
   "source": [
    "R(2239)"
   ]
  }
 ],
 "metadata": {
  "kernelspec": {
   "display_name": "Python 3",
   "language": "python",
   "name": "python3"
  },
  "language_info": {
   "codemirror_mode": {
    "name": "ipython",
    "version": 3
   },
   "file_extension": ".py",
   "mimetype": "text/x-python",
   "name": "python",
   "nbconvert_exporter": "python",
   "pygments_lexer": "ipython3",
   "version": "3.5.2"
  }
 },
 "nbformat": 4,
 "nbformat_minor": 2
}
