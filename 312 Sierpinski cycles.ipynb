{
 "cells": [
  {
   "cell_type": "markdown",
   "metadata": {},
   "source": [
    "On trouve la formule grâce aux remarques suivantes"
   ]
  },
  {
   "cell_type": "markdown",
   "metadata": {},
   "source": [
    "On note $C(n)$ le nombre de cycles dans un triangle de Sierpinski d'odre n. En notant P(n) le nombre de chemins hamiltoniens qui partent du côté A d'un triangle de rang n pour finir au sommet B, on remarque assez simplement :\n",
    "\n",
    "$$C(n) = P(n-1)^3$$"
   ]
  },
  {
   "cell_type": "markdown",
   "metadata": {},
   "source": [
    "Par ailleurs, en notant $K(n)$ le nombre de chemins qui partent d'un sommet A pour arriver au sommet B en passant pour tous les points *sauf* le sommet C, on trouve :\n",
    "\n",
    "$$P(n+1) = 2P(n)^2K(n)$$\n",
    "$$K(n+1) = 2P(n)K(n)^2$$\n",
    "\n",
    "à partir de n = 2 (pour n = 1, la deuxième relation n'est pas vérifiée)"
   ]
  },
  {
   "cell_type": "markdown",
   "metadata": {},
   "source": [
    "On constate donc :\n",
    "\n",
    "$$P(n+1)K(n+1) = 4(P(n)K(n))^2$$"
   ]
  },
  {
   "cell_type": "markdown",
   "metadata": {},
   "source": [
    "Avec $P(2) = 2$ et $K(2) = 3$"
   ]
  },
  {
   "cell_type": "markdown",
   "metadata": {},
   "source": [
    "On en déduit que $P(n)K(n) = 4^{u_n} 6^{v_n}$"
   ]
  },
  {
   "cell_type": "markdown",
   "metadata": {},
   "source": [
    "Au final:\n",
    "\n",
    "$$C(n) = 8 \\times 12^{(3^{n-2}-3)/ 2}$$"
   ]
  },
  {
   "cell_type": "code",
   "execution_count": 1,
   "metadata": {
    "collapsed": true
   },
   "outputs": [],
   "source": [
    "def C_naif(n):\n",
    "    return 8 * pow(12, (3**(n-2) - 3) // 2)"
   ]
  },
  {
   "cell_type": "markdown",
   "metadata": {},
   "source": [
    "On devrait avoir $C(5) = 71328803586048$"
   ]
  },
  {
   "cell_type": "code",
   "execution_count": 2,
   "metadata": {
    "collapsed": false,
    "scrolled": true
   },
   "outputs": [
    {
     "data": {
      "text/plain": [
       "True"
      ]
     },
     "execution_count": 2,
     "metadata": {},
     "output_type": "execute_result"
    }
   ],
   "source": [
    "C_naif(5) == 71328803586048"
   ]
  },
  {
   "cell_type": "markdown",
   "metadata": {},
   "source": [
    "Il faut calculer C(C(C(10000)))"
   ]
  },
  {
   "cell_type": "code",
   "execution_count": 10,
   "metadata": {
    "collapsed": true
   },
   "outputs": [],
   "source": [
    "from sympy.ntheory import factorint\n",
    "from functools import reduce\n",
    "import operator as op\n",
    "\n",
    "def recomp(decomp):\n",
    "    \"\"\"Transforme une représentation en décomposition en nombres premiers en un entier\n",
    "    \"\"\"\n",
    "    return reduce(op.mul, (p**k for p, k in decomp.items()))\n",
    "\n",
    "def phi(n):\n",
    "    \"\"\"Renvoie la valeur de l'indicatrice d'Euler comme une décomposition en nombres premiers\n",
    "    \"\"\"\n",
    "    if isinstance(n, int):\n",
    "        n = factorint(n)\n",
    "    # n must be a dict !\n",
    "    \n",
    "    res = {}\n",
    "    \n",
    "    for p, k in n.items():\n",
    "        new_factors = factorint(p-1)\n",
    "        for np, nk in new_factors.items():\n",
    "            res[np] = nk + res.get(np, 0)\n",
    "        if k != 1:\n",
    "            res[p] = k-1 + res.get(p, 0)\n",
    "        \n",
    "    return res\n",
    "\n",
    "def find_order(elem, mod):\n",
    "    \"\"\"Renvoie l'ordre d'un élément du groupe des entiers modulos mod inversibles\n",
    "    \n",
    "    Attention, elem doit être premier avec mod, ou cette fonction lève une ValueError\n",
    "    \"\"\"\n",
    "    if isinstance(mod, int):\n",
    "        mod_int = mod\n",
    "        mod = factorint(mod)\n",
    "    else:\n",
    "        mod_int = recomp(mod)\n",
    "        \n",
    "    tot = phi(mod)\n",
    "    \n",
    "    res = tot.copy()\n",
    "    \n",
    "    for p, e in tot.items():\n",
    "        res[p] = 0\n",
    "        while pow(elem, recomp(res), mod_int) != 1 and res[p] <= tot[p]:\n",
    "            res[p] += 1\n",
    "        \n",
    "        if res[p] > tot[p]: raise ValueError(\"elem n'est pas premier avec mod!\")\n",
    "        if res[p] == 0: del res[p]\n",
    "    \n",
    "    return res\n",
    "\n",
    "def remove_common(a, b):\n",
    "    \"\"\"Enlève dans a tous les nombres premiers présents dans b\n",
    "    \n",
    "    Cette fonction renvoie un nouveau dictionnaire et ne touche pas à ses arguments\n",
    "    \n",
    "    Par exemple, si a = {2: 4, 3: 2, 13: 4} et b = {2:1, 13:6}, alors\n",
    "    cette fonction renvoie {3: 2}\n",
    "    \"\"\"\n",
    "    res = a.copy()\n",
    "    for p in b:\n",
    "        if p in a:\n",
    "            del res[p]\n",
    "    return res\n",
    "\n",
    "def modi(a, mod):\n",
    "    \"\"\"Modulo légèrement modifié\n",
    "    \n",
    "    Ce modulo renvoie un nombre entre 1 et mod (compris).\n",
    "    Le modulo classique renvoie de 0 à mod-1.\n",
    "    \"\"\"\n",
    "    return ((a-1) % mod) + 1\n",
    "\n",
    "def powi(a, b, c):\n",
    "    \"\"\"Exponentiation modulaire légèrement modifiée\n",
    "    \n",
    "    La fonction modi est appliquée au résultat final.\n",
    "    \"\"\"\n",
    "    return modi(pow(a, b, c), c)\n",
    "\n",
    "def gen_c_mod(mod):\n",
    "    \"\"\"Génère une fonction de comptage des cycles sierpinski modulo mod\n",
    "    \n",
    "    Renvoie deux arguments : la fonction générée, et le modulo qui s'applique\n",
    "    sur l'argument (pour pouvoir construire les étages supérieurs).\n",
    "    \"\"\"\n",
    "    # si mod est un entier (plutôt qu'une décomposition en nombres premiers)\n",
    "    # on le décompose d'abors\n",
    "    if isinstance(mod, int):\n",
    "        mod = factorint(mod)\n",
    "    mod_over_12 = find_order(12, remove_common(mod, factorint(12)))\n",
    "    \n",
    "    # as the 3 to the power is divided by two, we must multiply that mod by 2\n",
    "    mod_over_12[2] = 1 + mod_over_12.get(2, 0)\n",
    "    \n",
    "    mod_over_3 = find_order(3, remove_common(mod_over_12, factorint(3)))\n",
    "    \n",
    "    m12 = recomp(mod_over_12)\n",
    "    m3 = recomp(mod_over_3)\n",
    "    m = recomp(mod)\n",
    "    \n",
    "    def f(n):\n",
    "        nm2 = modi(n-2, m3)\n",
    "        k = powi(3, nm2, m12)\n",
    "        return modi(8*powi(12, (k-3)//2, m), m)\n",
    "    \n",
    "    return f, mod_over_3"
   ]
  },
  {
   "cell_type": "markdown",
   "metadata": {},
   "source": [
    "On teste avec les valeurs données:\n",
    "\n",
    "$$C(10000) mod 10^8 = 37652224$$\n",
    "$$C(10000) mod 13^8 = 617720485$$"
   ]
  },
  {
   "cell_type": "code",
   "execution_count": 11,
   "metadata": {
    "collapsed": false
   },
   "outputs": [
    {
     "data": {
      "text/plain": [
       "True"
      ]
     },
     "execution_count": 11,
     "metadata": {},
     "output_type": "execute_result"
    }
   ],
   "source": [
    "gen_c_mod(10**8)[0](10000) == 37652224"
   ]
  },
  {
   "cell_type": "code",
   "execution_count": 12,
   "metadata": {
    "collapsed": false
   },
   "outputs": [
    {
     "data": {
      "text/plain": [
       "True"
      ]
     },
     "execution_count": 12,
     "metadata": {},
     "output_type": "execute_result"
    }
   ],
   "source": [
    "gen_c_mod(13**8)[0](10000) == 617720485"
   ]
  },
  {
   "cell_type": "markdown",
   "metadata": {},
   "source": [
    "On obtient le résultat en générant les trois fonctions partielles."
   ]
  },
  {
   "cell_type": "code",
   "execution_count": 13,
   "metadata": {
    "collapsed": false
   },
   "outputs": [
    {
     "data": {
      "text/plain": [
       "324681947"
      ]
     },
     "execution_count": 13,
     "metadata": {},
     "output_type": "execute_result"
    }
   ],
   "source": [
    "m0 = 13**8\n",
    "c1, m1 = gen_c_mod(m0)\n",
    "c2, m2 = gen_c_mod(m1)\n",
    "c3, m3 = gen_c_mod(m2)\n",
    "c1(c2(c3(10000)))"
   ]
  },
  {
   "cell_type": "markdown",
   "metadata": {},
   "source": [
    "Pour mémoire, une implémentation du logarithme discret"
   ]
  },
  {
   "cell_type": "code",
   "execution_count": 8,
   "metadata": {
    "collapsed": false
   },
   "outputs": [],
   "source": [
    "from sympy.ntheory.modular import crt\n",
    "\n",
    "def discrete_log(g, mod, e):\n",
    "    # find x so that base**x % mod == g\n",
    "    # mod should be in dict form\n",
    "    \n",
    "    totient = phi(mod)\n",
    "    tot = recomp(totient)\n",
    "    g_inv = mulinv(g, mod)\n",
    "    \n",
    "    new_mods = []\n",
    "    congs = []\n",
    "    \n",
    "    for p, k in totient.items():\n",
    "        new_tot = tot\n",
    "        \n",
    "        partial_powers = []\n",
    "        \n",
    "        e_cur = e\n",
    "        g_pow = pow(g, new_tot//p, mod)\n",
    "        \n",
    "        for i in range(1,k+1):\n",
    "            new_tot //= p\n",
    "            e_pow = pow(e_cur, new_tot, mod)\n",
    "            if g_pow == 1 and e_pow != 1:\n",
    "                raise ValueError(\"pas de solution !\")\n",
    "            \n",
    "            for j in range(p):\n",
    "                if pow(g_pow, j, mod) == e_pow:\n",
    "                    break\n",
    "            \n",
    "            partial_powers.append(j)\n",
    "            \n",
    "            if i != k:\n",
    "                e_cur = e_cur * pow(g_inv, p**(i-1)*j, mod) % mod\n",
    "                \n",
    "        new_mods.append(p**k)\n",
    "        congs.append(sum(j * p**(i) for i, j in enumerate(partial_powers)))\n",
    "    \n",
    "    return crt(new_mods, congs)[0]"
   ]
  }
 ],
 "metadata": {
  "kernelspec": {
   "display_name": "Python 3",
   "language": "python",
   "name": "python3"
  },
  "language_info": {
   "codemirror_mode": {
    "name": "ipython",
    "version": 3
   },
   "file_extension": ".py",
   "mimetype": "text/x-python",
   "name": "python",
   "nbconvert_exporter": "python",
   "pygments_lexer": "ipython3",
   "version": "3.5.2"
  }
 },
 "nbformat": 4,
 "nbformat_minor": 2
}
