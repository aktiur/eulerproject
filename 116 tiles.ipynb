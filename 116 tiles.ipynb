{
 "cells": [
  {
   "cell_type": "code",
   "execution_count": 2,
   "metadata": {
    "collapsed": false
   },
   "outputs": [],
   "source": [
    "from scipy.special import binom"
   ]
  },
  {
   "cell_type": "code",
   "execution_count": 13,
   "metadata": {
    "collapsed": true
   },
   "outputs": [],
   "source": [
    "def sol_tiles_num(n, t, k):\n",
    "    # nombre de façons de mettre k tiles de t carrés dans un espace de n carrés\n",
    "    i = n - t * k\n",
    "    return binom(k + i, i)\n",
    "\n",
    "def sol_tiles(n, t):\n",
    "    # nombre de façons de mettre des tiles de t carrés dans un espace de n carrés\n",
    "    nb_max = n // t\n",
    "    return sum(sol_tiles_num(n, t, k) for k in range(1, nb_max+1))\n",
    "\n",
    "solution = sol_tiles(50, 2) + sol_tiles(50, 3) + sol_tiles(50, 4)"
   ]
  },
  {
   "cell_type": "code",
   "execution_count": 21,
   "metadata": {
    "collapsed": false
   },
   "outputs": [
    {
     "data": {
      "text/plain": [
       "20492570929.0"
      ]
     },
     "execution_count": 21,
     "metadata": {},
     "output_type": "execute_result"
    }
   ],
   "source": [
    "solution"
   ]
  }
 ],
 "metadata": {
  "kernelspec": {
   "display_name": "Python 3",
   "language": "python",
   "name": "python3"
  },
  "language_info": {
   "codemirror_mode": {
    "name": "ipython",
    "version": 3
   },
   "file_extension": ".py",
   "mimetype": "text/x-python",
   "name": "python",
   "nbconvert_exporter": "python",
   "pygments_lexer": "ipython3",
   "version": "3.5.2"
  }
 },
 "nbformat": 4,
 "nbformat_minor": 2
}
